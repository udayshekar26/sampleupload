{
 "cells": [
  {
   "cell_type": "code",
   "execution_count": 80,
   "id": "1eb1aef6",
   "metadata": {},
   "outputs": [],
   "source": [
    "# Import necessary libraries\n",
    "\n",
    "import numpy as np\n",
    "import pandas as pd\n",
    "import matplotlib.pyplot as plt"
   ]
  },
  {
   "cell_type": "code",
   "execution_count": 81,
   "id": "ac15aa69",
   "metadata": {},
   "outputs": [],
   "source": [
    "# Importing the dataset\n",
    "df = pd.read_csv('MBA Salary.csv')"
   ]
  },
  {
   "cell_type": "code",
   "execution_count": 82,
   "id": "b5459178",
   "metadata": {},
   "outputs": [
    {
     "data": {
      "text/html": [
       "<div>\n",
       "<style scoped>\n",
       "    .dataframe tbody tr th:only-of-type {\n",
       "        vertical-align: middle;\n",
       "    }\n",
       "\n",
       "    .dataframe tbody tr th {\n",
       "        vertical-align: top;\n",
       "    }\n",
       "\n",
       "    .dataframe thead th {\n",
       "        text-align: right;\n",
       "    }\n",
       "</style>\n",
       "<table border=\"1\" class=\"dataframe\">\n",
       "  <thead>\n",
       "    <tr style=\"text-align: right;\">\n",
       "      <th></th>\n",
       "      <th>S. No.</th>\n",
       "      <th>Percentage in Grade 10</th>\n",
       "      <th>Salary</th>\n",
       "    </tr>\n",
       "  </thead>\n",
       "  <tbody>\n",
       "    <tr>\n",
       "      <th>0</th>\n",
       "      <td>1</td>\n",
       "      <td>62.00</td>\n",
       "      <td>270000</td>\n",
       "    </tr>\n",
       "    <tr>\n",
       "      <th>1</th>\n",
       "      <td>2</td>\n",
       "      <td>76.33</td>\n",
       "      <td>200000</td>\n",
       "    </tr>\n",
       "    <tr>\n",
       "      <th>2</th>\n",
       "      <td>3</td>\n",
       "      <td>72.00</td>\n",
       "      <td>240000</td>\n",
       "    </tr>\n",
       "    <tr>\n",
       "      <th>3</th>\n",
       "      <td>4</td>\n",
       "      <td>60.00</td>\n",
       "      <td>250000</td>\n",
       "    </tr>\n",
       "    <tr>\n",
       "      <th>4</th>\n",
       "      <td>5</td>\n",
       "      <td>61.00</td>\n",
       "      <td>180000</td>\n",
       "    </tr>\n",
       "  </tbody>\n",
       "</table>\n",
       "</div>"
      ],
      "text/plain": [
       "   S. No.  Percentage in Grade 10  Salary\n",
       "0       1                   62.00  270000\n",
       "1       2                   76.33  200000\n",
       "2       3                   72.00  240000\n",
       "3       4                   60.00  250000\n",
       "4       5                   61.00  180000"
      ]
     },
     "execution_count": 82,
     "metadata": {},
     "output_type": "execute_result"
    }
   ],
   "source": [
    "df.head()"
   ]
  },
  {
   "cell_type": "code",
   "execution_count": 83,
   "id": "1bc9812b",
   "metadata": {},
   "outputs": [
    {
     "name": "stdout",
     "output_type": "stream",
     "text": [
      "<class 'pandas.core.frame.DataFrame'>\n",
      "RangeIndex: 50 entries, 0 to 49\n",
      "Data columns (total 3 columns):\n",
      " #   Column                  Non-Null Count  Dtype  \n",
      "---  ------                  --------------  -----  \n",
      " 0   S. No.                  50 non-null     int64  \n",
      " 1   Percentage in Grade 10  50 non-null     float64\n",
      " 2   Salary                  50 non-null     int64  \n",
      "dtypes: float64(1), int64(2)\n",
      "memory usage: 1.3 KB\n"
     ]
    }
   ],
   "source": [
    "df.info()"
   ]
  },
  {
   "cell_type": "code",
   "execution_count": 84,
   "id": "eec71c08",
   "metadata": {},
   "outputs": [
    {
     "name": "stdout",
     "output_type": "stream",
     "text": [
      "(50, 3)\n"
     ]
    }
   ],
   "source": [
    "print(df.shape)\n"
   ]
  },
  {
   "cell_type": "code",
   "execution_count": 85,
   "id": "1f13f6bd",
   "metadata": {},
   "outputs": [
    {
     "name": "stdout",
     "output_type": "stream",
     "text": [
      "         S. No.  Percentage in Grade 10         Salary\n",
      "count  50.00000               50.000000      50.000000\n",
      "mean   25.50000               63.922400  258192.000000\n",
      "std    14.57738                9.859937   76715.790993\n",
      "min     1.00000               37.330000  120000.000000\n",
      "25%    13.25000               57.685000  204500.000000\n",
      "50%    25.50000               64.700000  250000.000000\n",
      "75%    37.75000               70.000000  300000.000000\n",
      "max    50.00000               83.000000  450000.000000\n"
     ]
    }
   ],
   "source": [
    "# View descriptive statistics\n",
    "\n",
    "print(df.describe())"
   ]
  },
  {
   "cell_type": "code",
   "execution_count": 86,
   "id": "02e0449e",
   "metadata": {},
   "outputs": [],
   "source": [
    "# Declare feature variable and target variable\n",
    "\n",
    "X = df['Percentage in Grade 10']\n",
    "y = df['Salary']"
   ]
  },
  {
   "cell_type": "code",
   "execution_count": 87,
   "id": "e0bedcd7",
   "metadata": {},
   "outputs": [
    {
     "data": {
      "image/png": "[encoded data removed]",
      "text/plain": [
       "<Figure size 432x288 with 1 Axes>"
      ]
     },
     "metadata": {
      "needs_background": "light"
     },
     "output_type": "display_data"
    }
   ],
   "source": [
    "# Plot scatter plot between X and y\n",
    "\n",
    "plt.scatter(X, y, color = 'blue', label='Scatter Plot')\n",
    "plt.title('Relationship between Grades and Salary of a person')\n",
    "plt.xlabel('Percentage in Grade 10')\n",
    "plt.ylabel('Salary')\n",
    "plt.legend(loc=4)\n",
    "plt.show()\n"
   ]
  },
  {
   "cell_type": "code",
   "execution_count": 88,
   "id": "95afcfcf",
   "metadata": {},
   "outputs": [
    {
     "name": "stdout",
     "output_type": "stream",
     "text": [
      "(50,)\n",
      "(50,)\n"
     ]
    }
   ],
   "source": [
    "# Print the dimensions of X and y\n",
    "print(X.shape)\n",
    "print(y.shape)"
   ]
  },
  {
   "cell_type": "code",
   "execution_count": 89,
   "id": "89ce24f5",
   "metadata": {},
   "outputs": [
    {
     "data": {
      "text/plain": [
       "0     62.00\n",
       "1     76.33\n",
       "2     72.00\n",
       "3     60.00\n",
       "4     61.00\n",
       "5     55.00\n",
       "6     70.00\n",
       "7     68.00\n",
       "8     82.80\n",
       "9     59.00\n",
       "10    58.00\n",
       "11    60.00\n",
       "12    66.00\n",
       "13    83.00\n",
       "14    68.00\n",
       "15    37.33\n",
       "16    79.00\n",
       "17    68.40\n",
       "18    70.00\n",
       "19    59.00\n",
       "20    63.00\n",
       "21    50.00\n",
       "22    69.00\n",
       "23    52.00\n",
       "24    49.00\n",
       "25    64.60\n",
       "26    50.00\n",
       "27    74.00\n",
       "28    58.00\n",
       "29    67.00\n",
       "30    75.00\n",
       "31    60.00\n",
       "32    55.00\n",
       "33    78.00\n",
       "34    50.08\n",
       "35    56.00\n",
       "36    68.00\n",
       "37    52.00\n",
       "38    54.00\n",
       "39    52.00\n",
       "40    76.00\n",
       "41    64.80\n",
       "42    74.40\n",
       "43    74.50\n",
       "44    73.50\n",
       "45    57.58\n",
       "46    68.00\n",
       "47    69.00\n",
       "48    66.00\n",
       "49    60.80\n",
       "Name: Percentage in Grade 10, dtype: float64"
      ]
     },
     "execution_count": 89,
     "metadata": {},
     "output_type": "execute_result"
    }
   ],
   "source": [
    "X"
   ]
  },
  {
   "cell_type": "code",
   "execution_count": 90,
   "id": "98e183f6",
   "metadata": {},
   "outputs": [],
   "source": [
    "X=np.array(X)\n",
    "y=np.array(y)"
   ]
  },
  {
   "cell_type": "code",
   "execution_count": 91,
   "id": "e4d1c01c",
   "metadata": {},
   "outputs": [
    {
     "data": {
      "text/plain": [
       "array([62.  , 76.33, 72.  , 60.  , 61.  , 55.  , 70.  , 68.  , 82.8 ,\n",
       "       59.  , 58.  , 60.  , 66.  , 83.  , 68.  , 37.33, 79.  , 68.4 ,\n",
       "       70.  , 59.  , 63.  , 50.  , 69.  , 52.  , 49.  , 64.6 , 50.  ,\n",
       "       74.  , 58.  , 67.  , 75.  , 60.  , 55.  , 78.  , 50.08, 56.  ,\n",
       "       68.  , 52.  , 54.  , 52.  , 76.  , 64.8 , 74.4 , 74.5 , 73.5 ,\n",
       "       57.58, 68.  , 69.  , 66.  , 60.8 ])"
      ]
     },
     "execution_count": 91,
     "metadata": {},
     "output_type": "execute_result"
    }
   ],
   "source": [
    "X"
   ]
  },
  {
   "cell_type": "code",
   "execution_count": 59,
   "id": "8c287dce",
   "metadata": {},
   "outputs": [],
   "source": [
    "# Reshape X and y\n",
    "\n",
    "X = X.reshape(-1,1)\n",
    "y = y.reshape(-1,1)"
   ]
  },
  {
   "cell_type": "code",
   "execution_count": 93,
   "id": "25263dc2",
   "metadata": {},
   "outputs": [
    {
     "name": "stdout",
     "output_type": "stream",
     "text": [
      "(50,)\n",
      "(50,)\n"
     ]
    }
   ],
   "source": [
    "# Print the dimensions of X and y after reshaping\n",
    "\n",
    "print(X.shape)\n",
    "print(y.shape)\n"
   ]
  },
  {
   "cell_type": "code",
   "execution_count": 69,
   "id": "56f0ad6e",
   "metadata": {},
   "outputs": [],
   "source": [
    "# Split X and y into training and test data sets\n",
    "#random_state--the set of data does not change\n",
    "\n",
    "from sklearn.model_selection import train_test_split\n",
    "X_train,X_test,y_train,y_test = train_test_split(X, y, test_size=0.30, random_state=42)"
   ]
  },
  {
   "cell_type": "code",
   "execution_count": 70,
   "id": "9165b757",
   "metadata": {},
   "outputs": [
    {
     "name": "stdout",
     "output_type": "stream",
     "text": [
      "(33, 1)\n",
      "(33, 1)\n",
      "(17, 1)\n",
      "(17, 1)\n"
     ]
    }
   ],
   "source": [
    "# Print the dimensions of X_train,X_test,y_train,y_test\n",
    "print(X_train.shape)\n",
    "print(y_train.shape)\n",
    "print(X_test.shape)\n",
    "print(y_test.shape)"
   ]
  },
  {
   "cell_type": "code",
   "execution_count": 71,
   "id": "eb38a47a",
   "metadata": {},
   "outputs": [],
   "source": [
    "# Fit the linear model\n",
    "\n",
    "# Instantiate the linear regression object lm\n",
    "from sklearn.linear_model import LinearRegression\n",
    "lm = LinearRegression()\n",
    "\n",
    "\n",
    "# Train the model using training data sets\n",
    "lm.fit(X_train,y_train)\n",
    "\n",
    "\n",
    "# Predict on the test data\n",
    "y_pred=lm.predict(X_test)"
   ]
  },
  {
   "cell_type": "code",
   "execution_count": 75,
   "id": "f18128b4",
   "metadata": {},
   "outputs": [
    {
     "data": {
      "text/plain": [
       "[<matplotlib.lines.Line2D at 0x22c2d23c430>]"
      ]
     },
     "execution_count": 75,
     "metadata": {},
     "output_type": "execute_result"
    },
    {
     "data": {
      "image/png": "[encoded data removed]",
      "text/plain": [
       "<Figure size 432x288 with 1 Axes>"
      ]
     },
     "metadata": {
      "needs_background": "light"
     },
     "output_type": "display_data"
    }
   ],
   "source": [
    "# Visualising the Training set results\n",
    "plt.scatter(X_train, y_train, color = 'red')\n",
    "plt.plot(X_train, lm.predict(X_train), color = 'blue')\n"
   ]
  },
  {
   "cell_type": "code",
   "execution_count": 98,
   "id": "54e73664",
   "metadata": {},
   "outputs": [
    {
     "data": {
      "image/png": "[encoded data removed]",
      "text/plain": [
       "<Figure size 432x288 with 1 Axes>"
      ]
     },
     "metadata": {
      "needs_background": "light"
     },
     "output_type": "display_data"
    }
   ],
   "source": [
    "# Visualising the Test set results\n",
    "plt.scatter(X_test, y_test, color = 'red')\n",
    "plt.plot(X_test, lm.predict(X_test), color = 'blue')\n",
    "plt.title('Test set results')\n",
    "plt.xlabel('Grades')\n",
    "plt.ylabel('Salary')\n",
    "plt.show()"
   ]
  },
  {
   "cell_type": "code",
   "execution_count": 99,
   "id": "5f89af9e",
   "metadata": {},
   "outputs": [
    {
     "name": "stdout",
     "output_type": "stream",
     "text": [
      "Estimated model slope: [[1504.41195413]]\n",
      "Estimated model intercept: (array([152845.01374103]),)\n"
     ]
    }
   ],
   "source": [
    "# Compute model slope and intercept\n",
    "\n",
    "slope = lm.coef_\n",
    "intercept = lm.intercept_,\n",
    "print(\"Estimated model slope:\" , slope)\n",
    "print(\"Estimated model intercept:\" , intercept)"
   ]
  },
  {
   "cell_type": "code",
   "execution_count": 108,
   "id": "d1ddc464",
   "metadata": {},
   "outputs": [],
   "source": [
    "X_new = [[80]]"
   ]
  },
  {
   "cell_type": "code",
   "execution_count": 109,
   "id": "27aafe65",
   "metadata": {},
   "outputs": [
    {
     "data": {
      "text/plain": [
       "array([[273197.97007155]])"
      ]
     },
     "execution_count": 109,
     "metadata": {},
     "output_type": "execute_result"
    }
   ],
   "source": [
    "lm.predict(X_new)"
   ]
  },
  {
   "cell_type": "code",
   "execution_count": null,
   "id": "90d4f605",
   "metadata": {},
   "outputs": [],
   "source": []
  },
  {
   "cell_type": "code",
   "execution_count": null,
   "id": "2b7b82ba",
   "metadata": {},
   "outputs": [],
   "source": []
  }
 ],
 "metadata": {
  "kernelspec": {
   "display_name": "Python 3",
   "language": "python",
   "name": "python3"
  },
  "language_info": {
   "codemirror_mode": {
    "name": "ipython",
    "version": 3
   },
   "file_extension": ".py",
   "mimetype": "text/x-python",
   "name": "python",
   "nbconvert_exporter": "python",
   "pygments_lexer": "ipython3",
   "version": "3.8.8"
  }
 },
 "nbformat": 4,
 "nbformat_minor": 5
}
