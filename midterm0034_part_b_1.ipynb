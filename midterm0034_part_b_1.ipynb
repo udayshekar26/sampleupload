{
  "nbformat": 4,
  "nbformat_minor": 0,
  "metadata": {
    "colab": {
      "provenance": [],
      "authorship_tag": "ABX9TyM1YaOuKCaZPRB6SHDRoMUA",
      "include_colab_link": true
    },
    "kernelspec": {
      "name": "python3",
      "display_name": "Python 3"
    },
    "language_info": {
      "name": "python"
    }
  },
  "cells": [
    {
      "cell_type": "markdown",
      "metadata": {
        "id": "view-in-github",
        "colab_type": "text"
      },
      "source": [
        "<a href=\"https://colab.research.google.com/github/udayshekar26/sampleupload/blob/main/midterm0034_part_b_1.ipynb\" target=\"_parent\"><img src=\"https://colab.research.google.com/assets/colab-badge.svg\" alt=\"Open In Colab\"/></a>"
      ]
    },
    {
      "cell_type": "code",
      "execution_count": null,
      "metadata": {
        "colab": {
          "base_uri": "https://localhost:8080/",
          "height": 130
        },
        "id": "DhSoDye_Oy3S",
        "outputId": "1ae6235c-0522-4900-920e-7a705c4177ba"
      },
      "outputs": [
        {
          "output_type": "error",
          "ename": "SyntaxError",
          "evalue": "ignored",
          "traceback": [
            "\u001b[0;36m  File \u001b[0;32m\"<ipython-input-5-0f3d8d353430>\"\u001b[0;36m, line \u001b[0;32m5\u001b[0m\n\u001b[0;31m    elif:\u001b[0m\n\u001b[0m        ^\u001b[0m\n\u001b[0;31mSyntaxError\u001b[0m\u001b[0;31m:\u001b[0m invalid syntax\n"
          ]
        }
      ],
      "source": [
        "marks= int(input('enter the marks of a student\\n'))\n",
        "\n",
        "\n"
      ]
    },
    {
      "cell_type": "code",
      "source": [
        "marks= int(input('enter the marks of a student\\n'))\n",
        "if marks>=0 and marks<=25:\n",
        "  print(\"fail\")\n",
        "elif marks>=26 and marks<=35:\n",
        "  print(\"just pass\")\n",
        "elif marks>=36and marks<=50:\n",
        "  print(\"satisfactorys\")\n",
        "elif marks>=50 and marks<=65:\n",
        "  print(\"first class\")\n",
        "elif marks>=65 and marks<=75:\n",
        "  print(\"distinction\")\n",
        "else:\n",
        "  print(\"outstanding\")"
      ],
      "metadata": {
        "colab": {
          "base_uri": "https://localhost:8080/"
        },
        "id": "p599L1ojZpUP",
        "outputId": "8104f3a2-556a-49cd-8748-ab3249d5e26c"
      },
      "execution_count": null,
      "outputs": [
        {
          "output_type": "stream",
          "name": "stdout",
          "text": [
            "enter the marks of a student\n",
            "7\n",
            "fail\n"
          ]
        }
      ]
    },
    {
      "cell_type": "code",
      "source": [],
      "metadata": {
        "id": "4r-iIop3aXxm"
      },
      "execution_count": null,
      "outputs": []
    }
  ]
}