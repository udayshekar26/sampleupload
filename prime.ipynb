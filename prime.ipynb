{
  "nbformat": 4,
  "nbformat_minor": 0,
  "metadata": {
    "colab": {
      "provenance": [],
      "authorship_tag": "ABX9TyM5mxpD6fFR0ex+AlittDV+",
      "include_colab_link": true
    },
    "kernelspec": {
      "name": "python3",
      "display_name": "Python 3"
    },
    "language_info": {
      "name": "python"
    }
  },
  "cells": [
    {
      "cell_type": "markdown",
      "metadata": {
        "id": "view-in-github",
        "colab_type": "text"
      },
      "source": [
        "<a href=\"https://colab.research.google.com/github/udayshekar26/sampleupload/blob/main/prime.ipynb\" target=\"_parent\"><img src=\"https://colab.research.google.com/assets/colab-badge.svg\" alt=\"Open In Colab\"/></a>"
      ]
    },
    {
      "cell_type": "code",
      "execution_count": 1,
      "metadata": {
        "colab": {
          "base_uri": "https://localhost:8080/"
        },
        "id": "a1DUxtkw9Y89",
        "outputId": "53af09f0-5ef6-4039-c829-a2d2f3e70a14"
      },
      "outputs": [
        {
          "output_type": "stream",
          "name": "stdout",
          "text": [
            "Enter the number to chech prime or not5\n",
            "5 is a prime number\n"
          ]
        }
      ],
      "source": [
        "\n",
        "\n",
        "num = int(input('Enter the number to chech prime or not'))\n",
        "\n",
        "flag = False\n",
        "\n",
        "\n",
        "if num > 1:\n",
        "    \n",
        "    for i in range(2, num):\n",
        "        if (num % i) == 0:\n",
        "            \n",
        "            flag = True\n",
        "            \n",
        "            break\n",
        "\n",
        "\n",
        "if flag:\n",
        "    print(num, \"is not a prime number\")\n",
        "else:\n",
        "    print(num, \"is a prime number\")"
      ]
    },
    {
      "cell_type": "code",
      "source": [],
      "metadata": {
        "id": "55S458pG9oBd"
      },
      "execution_count": null,
      "outputs": []
    }
  ]
}