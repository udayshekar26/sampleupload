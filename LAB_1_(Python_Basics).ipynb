{
  "cells": [
    {
      "cell_type": "markdown",
      "id": "723e90f4",
      "metadata": {
        "id": "723e90f4"
      },
      "source": [
        "# PYTHON PROGRAMMING LANGUAGE"
      ]
    },
    {
      "cell_type": "markdown",
      "id": "38e60bb7",
      "metadata": {
        "id": "38e60bb7"
      },
      "source": [
        "# What is python?\n",
        "\n",
        "1.Python is powerful programming language.\n",
        "\n",
        "2.Specially used in data science,machine learning to solve daily life real-time problems and providing the solutions.\n",
        "\n",
        "3.Python is a high-level,intrepeted,interactive and object oriented scripting langauge."
      ]
    },
    {
      "cell_type": "markdown",
      "id": "74c60035",
      "metadata": {
        "id": "74c60035"
      },
      "source": [
        "# History of Python language:\n",
        "    \n",
        "1.Python was developed by \"Guido Van Rossum\" in late 1980's in National Research Institute for Mathematics and Computer Science in Netherlands.\n",
        "\n",
        "2.Python was derived from many other languages including ABC,Modulo-3,C,C++,Algol=68,SmallTalk,Unix shell and other scripting languages."
      ]
    },
    {
      "cell_type": "markdown",
      "id": "862f8577",
      "metadata": {
        "id": "862f8577"
      },
      "source": [
        "# Why python?\n",
        "\n",
        "1.Easy to understand\n",
        "\n",
        "2.Easy syntax\n",
        "\n",
        "3.Beginner friendly\n",
        "\n",
        "4.Supports multiple libraries \n",
        "\n",
        "5.Supports OOP's\n",
        "\n",
        "6.Easy installation"
      ]
    },
    {
      "cell_type": "markdown",
      "id": "caa53a25",
      "metadata": {
        "id": "caa53a25"
      },
      "source": [
        "# Applications of python\n",
        "\n",
        "1.Web applications\n",
        "\n",
        "2.Desktop applications\n",
        "\n",
        "3.Database applications\n",
        "\n",
        "4.Web scraping\n",
        "\n",
        "5.Wen mapping\n",
        "\n",
        "6.Data analysis\n",
        "\n",
        "7.Interactive web visualization\n",
        "\n",
        "8.Computer vision and image processing etc.,"
      ]
    },
    {
      "cell_type": "markdown",
      "id": "2c8f4928",
      "metadata": {
        "id": "2c8f4928"
      },
      "source": [
        "# INTERNAL WORKING OF PYTHON\n",
        "\n"
      ]
    },
    {
      "cell_type": "markdown",
      "id": "34c1515d",
      "metadata": {
        "id": "34c1515d"
      },
      "source": [
        "# 1.Python identifiers:\n",
        "\n",
        "1.A Python identifier is a name used to identify variable,function,class ,module or other objects.\n",
        "\n",
        "2.A identifier starts with a letter (a-z),(A-Z) or an underscore(_) followed by zero or more letters,and digits(0-9)."
      ]
    },
    {
      "cell_type": "markdown",
      "id": "bde86f1c",
      "metadata": {
        "id": "bde86f1c"
      },
      "source": [
        "# Naming conventions for identifiers:\n",
        "    \n",
        "1.class names start with an uppercase letter .All the other identifiers start with a lower case letter.\n",
        "\n",
        "2.Starting an identifier with a single leading underscore indicates that the identifier is \"private\".\n",
        "\n",
        "3.starting an identifier with two leading underscores indicates \"strongly private\".\n",
        "\n",
        "4.If the identifier also ends with two trailing underscore ,the identifier is a language defined special name.\n"
      ]
    },
    {
      "cell_type": "markdown",
      "id": "2605732a",
      "metadata": {
        "id": "2605732a"
      },
      "source": [
        "# Python keywords:\n",
        "    \n",
        "1.Keywords are reserved words.\n",
        "\n",
        "2.cannot use them as constant or varaible.\n",
        "\n",
        "3.all the keywords except \"True\",\"False\" and \"None\" are in lower case.\n",
        "\n",
        "4.they are 35 keywords present in python"
      ]
    },
    {
      "cell_type": "code",
      "execution_count": null,
      "id": "081e2b29",
      "metadata": {
        "id": "081e2b29",
        "outputId": "a47497bb-7eb9-434e-c538-004e66fd33a3"
      },
      "outputs": [
        {
          "name": "stdout",
          "output_type": "stream",
          "text": [
            "['False', 'None', 'True', 'and', 'as', 'assert', 'async', 'await', 'break', 'class', 'continue', 'def', 'del', 'elif', 'else', 'except', 'finally', 'for', 'from', 'global', 'if', 'import', 'in', 'is', 'lambda', 'nonlocal', 'not', 'or', 'pass', 'raise', 'return', 'try', 'while', 'with', 'yield']\n",
            "35\n"
          ]
        }
      ],
      "source": [
        "#code to print all the keywords present in python\n",
        "import keyword\n",
        "print(keyword.kwlist)\n",
        "a=len(keyword.kwlist)\n",
        "print(a)"
      ]
    },
    {
      "cell_type": "markdown",
      "id": "e2baad9b",
      "metadata": {
        "id": "e2baad9b"
      },
      "source": [
        "# Indentation in python:\n",
        "    \n",
        "1.In C,C++,the indentation is specified by using the flower brackdets{}.\n",
        "\n",
        "2.In python,indentation is done by 4 white spaces or tab.\n",
        "\n"
      ]
    },
    {
      "cell_type": "markdown",
      "id": "027fef28",
      "metadata": {
        "id": "027fef28"
      },
      "source": [
        "# Python comments:\n",
        "\n",
        "In python we have 2 types of comments such as follow:\n",
        "\n",
        "1.single line comment(specified using single or double quotes).\n",
        "\n",
        "2.multi line comment(specified using doc sring).\n"
      ]
    },
    {
      "cell_type": "code",
      "execution_count": null,
      "id": "1cd2ed12",
      "metadata": {
        "id": "1cd2ed12",
        "outputId": "e764786f-a28c-479e-cd77-1e19a11cd5a9"
      },
      "outputs": [
        {
          "name": "stdout",
          "output_type": "stream",
          "text": [
            "hello my dear friends\n"
          ]
        }
      ],
      "source": [
        "#single line comment--->shows the single line comment.\n",
        "print('hello my dear friends')"
      ]
    },
    {
      "cell_type": "code",
      "execution_count": null,
      "id": "8b3024f9",
      "metadata": {
        "id": "8b3024f9",
        "outputId": "66385bc7-82d3-4c52-fb5c-1cea8222ebb0"
      },
      "outputs": [
        {
          "name": "stdout",
          "output_type": "stream",
          "text": [
            "hello CSE people\n"
          ]
        }
      ],
      "source": [
        "\"\"\"\n",
        "multi line comment\n",
        "how are you all\n",
        "have a nice day guys\n",
        "\"\"\"\n",
        "print('hello CSE people')"
      ]
    },
    {
      "cell_type": "markdown",
      "id": "5416e550",
      "metadata": {
        "id": "5416e550"
      },
      "source": [
        "# PYTHON VARIABLES:\n",
        "1.Variables are nothing but reserved memory locations to store values.\n",
        "\n",
        "2.When we create a varaible ,automatically some space in memory is reserved.\n",
        "\n",
        "3.Based on the data types the interpreter allocates the memory.\n",
        "\n",
        "4.Varaible can take any data type such as integer,float numbers,strings etc."
      ]
    },
    {
      "cell_type": "code",
      "execution_count": null,
      "id": "d3dab9c3",
      "metadata": {
        "id": "d3dab9c3",
        "outputId": "d2a34282-aed0-41e3-c508-b664ad5d32c6"
      },
      "outputs": [
        {
          "name": "stdout",
          "output_type": "stream",
          "text": [
            "100\n"
          ]
        },
        {
          "data": {
            "text/plain": [
              "'hello'"
            ]
          },
          "execution_count": 45,
          "metadata": {},
          "output_type": "execute_result"
        }
      ],
      "source": [
        "#exampl1:\n",
        "#here 3 variables have been created and stored the values as shown below\n",
        "a=50\n",
        "b=50\n",
        "c=a+b\n",
        "print(c)\n",
        "\n",
        "#example 2 on strings\n",
        "\n",
        "x='hello'\n",
        "x\n"
      ]
    },
    {
      "cell_type": "markdown",
      "id": "48120e6e",
      "metadata": {
        "id": "48120e6e"
      },
      "source": [
        "# Python Data types:\n",
        "\n",
        "1.Integer data type\n",
        "\n",
        "2.Float point numbers\n",
        "\n",
        "3.Strings data type\n",
        "\n",
        "4.Boolean data type\n",
        "\n",
        "note:Python accepts all types datas as listed above.\n",
        "    \n",
        "\n"
      ]
    },
    {
      "cell_type": "markdown",
      "id": "49a08288",
      "metadata": {
        "id": "49a08288"
      },
      "source": [
        "# Python Data Structures\n",
        "\n",
        "1.In python we have four types of data structures \n",
        "\n",
        "2.These data structures are very useful and important while working with advance topics such as machine learning ,data science.\n",
        "\n",
        "1.List\n",
        "\n",
        "2.Tuple\n",
        "\n",
        "3.Dictionary\n",
        "\n",
        "4.Sets\n",
        "\n"
      ]
    },
    {
      "cell_type": "markdown",
      "id": "4ca8f028",
      "metadata": {
        "id": "4ca8f028"
      },
      "source": [
        "# 1.LISTS IN PYTHON:\n",
        "\n",
        "*List is a python data structure \n",
        "\n",
        "*it is a combination of any data type.\n",
        "\n",
        "*enclosed within [] and separated by commas(,).\n",
        "\n",
        "*list is sequence of values called items or elements.\n",
        "\n",
        "*list is similar arrays.\n",
        "\n",
        "*list mutable.\n",
        "\n",
        "*list is indexible.\n"
      ]
    },
    {
      "cell_type": "code",
      "execution_count": null,
      "id": "a084b8f6",
      "metadata": {
        "id": "a084b8f6",
        "outputId": "21801310-4891-4696-e1d2-6d45c7662aa1"
      },
      "outputs": [
        {
          "name": "stdout",
          "output_type": "stream",
          "text": [
            "[1, 2, 3, 4, 5]\n",
            "[2.4, 7.0, 6.8]\n",
            "['hello', 'students']\n"
          ]
        }
      ],
      "source": [
        "#Creating a list with constructor()\n",
        "a=([1,2,3,4,5])\n",
        "b=([2.4,7.0,6.8])\n",
        "c=(['hello','students'])\n",
        "print(a)\n",
        "print(b)\n",
        "print(c)"
      ]
    },
    {
      "cell_type": "code",
      "execution_count": null,
      "id": "6e48746c",
      "metadata": {
        "id": "6e48746c",
        "outputId": "efe207be-dd7d-4b1b-82fc-5b9c792660ca"
      },
      "outputs": [
        {
          "data": {
            "text/plain": [
              "list"
            ]
          },
          "execution_count": 47,
          "metadata": {},
          "output_type": "execute_result"
        }
      ],
      "source": [
        "type(a)"
      ]
    },
    {
      "cell_type": "code",
      "execution_count": null,
      "id": "a6c6d5e6",
      "metadata": {
        "id": "a6c6d5e6",
        "outputId": "444b9737-f5aa-46de-bdda-5afe8112f5e4"
      },
      "outputs": [
        {
          "data": {
            "text/plain": [
              "['hello', 8, 9, 20.77]"
            ]
          },
          "execution_count": 48,
          "metadata": {},
          "output_type": "execute_result"
        }
      ],
      "source": [
        "#creating list with heterogenous data:\n",
        "\n",
        "a=(['hello',8,9,20.77])\n",
        "a"
      ]
    },
    {
      "cell_type": "code",
      "execution_count": null,
      "id": "16cb08d5",
      "metadata": {
        "id": "16cb08d5",
        "outputId": "bfd678c0-e82d-4bb1-e1ad-c2e9d8a7c328"
      },
      "outputs": [
        {
          "name": "stdout",
          "output_type": "stream",
          "text": [
            "[0, 1, 2, 3, 4, 5]\n"
          ]
        }
      ],
      "source": [
        "#create list using range function:\n",
        "L=list(range(0,6))\n",
        "print(L)"
      ]
    },
    {
      "cell_type": "code",
      "execution_count": null,
      "id": "fd0678e9",
      "metadata": {
        "id": "fd0678e9",
        "outputId": "04f4f021-ae8e-4a71-a15a-95d0f325e9bf"
      },
      "outputs": [
        {
          "data": {
            "text/plain": [
              "['monday', 'tuesday', 'wednesday', 'thursday', 'friday', 'saturday', 'sunday']"
            ]
          },
          "execution_count": 50,
          "metadata": {},
          "output_type": "execute_result"
        }
      ],
      "source": [
        "#creating a list without constructor():\n",
        "\n",
        "days=['monday','tuesday','wednesday','thursday','friday','saturday','sunday']\n",
        "days"
      ]
    },
    {
      "cell_type": "code",
      "execution_count": null,
      "id": "ee351295",
      "metadata": {
        "id": "ee351295",
        "outputId": "c5495d8f-61ef-4ca9-ea39-5f7c16e6afd2"
      },
      "outputs": [
        {
          "data": {
            "text/plain": [
              "'tuesday'"
            ]
          },
          "execution_count": 51,
          "metadata": {},
          "output_type": "execute_result"
        }
      ],
      "source": [
        "#accesing list items using index values:\n",
        "\n",
        "days[1]"
      ]
    },
    {
      "cell_type": "code",
      "execution_count": null,
      "id": "8d681926",
      "metadata": {
        "id": "8d681926",
        "outputId": "3de35425-0090-47cf-a1e4-b1355f15068e"
      },
      "outputs": [
        {
          "data": {
            "text/plain": [
              "'sunday'"
            ]
          },
          "execution_count": 52,
          "metadata": {},
          "output_type": "execute_result"
        }
      ],
      "source": [
        "#negative indexing:\n",
        "\n",
        "#creating a list without constructor():\n",
        "\n",
        "days=['monday','tuesday','wednesday','thursday','friday','saturday','sunday']\n",
        "days[-1]"
      ]
    },
    {
      "cell_type": "code",
      "execution_count": null,
      "id": "00e9ba37",
      "metadata": {
        "id": "00e9ba37",
        "outputId": "fe884718-df0c-40d5-d1b4-3a54c0561763"
      },
      "outputs": [
        {
          "data": {
            "text/plain": [
              "['monday', 'tuesday', 'wednesday', 'thursday', 'friday', 'saturday', 'sunday']"
            ]
          },
          "execution_count": 53,
          "metadata": {},
          "output_type": "execute_result"
        }
      ],
      "source": [
        "days[:]"
      ]
    },
    {
      "cell_type": "code",
      "execution_count": null,
      "id": "c9a54b53",
      "metadata": {
        "id": "c9a54b53",
        "outputId": "e0ae5b8f-b890-45de-93f7-de68f6da7e0b"
      },
      "outputs": [
        {
          "data": {
            "text/plain": [
              "['tuesday', 'wednesday', 'thursday']"
            ]
          },
          "execution_count": 54,
          "metadata": {},
          "output_type": "execute_result"
        }
      ],
      "source": [
        "#list slicing:\n",
        "days[1:4]"
      ]
    },
    {
      "cell_type": "code",
      "execution_count": null,
      "id": "db57ca16",
      "metadata": {
        "id": "db57ca16",
        "outputId": "92848bbc-3c4a-4660-c133-d81cec3de9a6"
      },
      "outputs": [
        {
          "data": {
            "text/plain": [
              "['tuesday', 'thursday']"
            ]
          },
          "execution_count": 55,
          "metadata": {},
          "output_type": "execute_result"
        }
      ],
      "source": [
        "#list slicing with step size:\n",
        "\n",
        "days=['monday','tuesday','wednesday','thursday','friday','saturday','sunday']\n",
        "days[1:4:2]"
      ]
    },
    {
      "cell_type": "markdown",
      "id": "e445a986",
      "metadata": {
        "id": "e445a986"
      },
      "source": [
        "# List built-in function:\n",
        "   "
      ]
    },
    {
      "cell_type": "markdown",
      "id": "536aa33e",
      "metadata": {
        "id": "536aa33e"
      },
      "source": [
        "![functions.png](attachment:functions.png)"
      ]
    },
    {
      "cell_type": "code",
      "execution_count": null,
      "id": "e7c0c697",
      "metadata": {
        "id": "e7c0c697",
        "outputId": "75cc257a-5dbe-43f0-e71d-564d7c6332a3"
      },
      "outputs": [
        {
          "data": {
            "text/plain": [
              "7"
            ]
          },
          "execution_count": 56,
          "metadata": {},
          "output_type": "execute_result"
        }
      ],
      "source": [
        "#example1:\n",
        "days=['monday','tuesday','wednesday','thursday','friday','saturday','sunday']\n",
        "len(days)"
      ]
    },
    {
      "cell_type": "code",
      "execution_count": null,
      "id": "f662bfc7",
      "metadata": {
        "id": "f662bfc7",
        "outputId": "65a015cb-e157-4c6f-e034-4f265f1096e9"
      },
      "outputs": [
        {
          "data": {
            "text/plain": [
              "8"
            ]
          },
          "execution_count": 57,
          "metadata": {},
          "output_type": "execute_result"
        }
      ],
      "source": [
        "numbers=[1,2,3,4,5,6,7,8]\n",
        "max(numbers)"
      ]
    },
    {
      "cell_type": "code",
      "execution_count": null,
      "id": "2d3b2efc",
      "metadata": {
        "id": "2d3b2efc",
        "outputId": "15873721-4caa-4c59-a4f2-cd35286ccf7a"
      },
      "outputs": [
        {
          "data": {
            "text/plain": [
              "1"
            ]
          },
          "execution_count": 58,
          "metadata": {},
          "output_type": "execute_result"
        }
      ],
      "source": [
        "numbers=[1,2,3,4,5,6,7,8]\n",
        "min(numbers)"
      ]
    },
    {
      "cell_type": "code",
      "execution_count": null,
      "id": "e7f01821",
      "metadata": {
        "id": "e7f01821",
        "outputId": "652e91fc-7e0a-484c-da9b-ffac40b1e5ef"
      },
      "outputs": [
        {
          "data": {
            "text/plain": [
              "36"
            ]
          },
          "execution_count": 59,
          "metadata": {},
          "output_type": "execute_result"
        }
      ],
      "source": [
        "numbers=[1,2,3,4,5,6,7,8]\n",
        "sum(numbers)"
      ]
    },
    {
      "cell_type": "code",
      "execution_count": null,
      "id": "eac8f613",
      "metadata": {
        "id": "eac8f613",
        "outputId": "eadb7245-7ff0-4b0a-a576-ee599bdad93d"
      },
      "outputs": [
        {
          "name": "stdout",
          "output_type": "stream",
          "text": [
            "[1, 8, 6, 7, 3, 5, 4, 2]\n"
          ]
        }
      ],
      "source": [
        "import random\n",
        "numbers=[1,2,3,4,5,6,7,8]\n",
        "random.shuffle(numbers)\n",
        "print(numbers)"
      ]
    },
    {
      "cell_type": "markdown",
      "id": "d40cde06",
      "metadata": {
        "id": "d40cde06"
      },
      "source": [
        "# List Operators"
      ]
    },
    {
      "cell_type": "markdown",
      "id": "de7d09a1",
      "metadata": {
        "id": "de7d09a1"
      },
      "source": [
        "![list%20operators.png](attachment:list%20operators.png)"
      ]
    },
    {
      "cell_type": "code",
      "execution_count": null,
      "id": "a391a72d",
      "metadata": {
        "id": "a391a72d",
        "outputId": "b70300fe-78ad-474c-df9a-0f5c61ae3bfc"
      },
      "outputs": [
        {
          "name": "stdout",
          "output_type": "stream",
          "text": [
            "[1, 2, 3, 4, 5, 6]\n"
          ]
        }
      ],
      "source": [
        "#examples on operator:\n",
        "\n",
        "a=[1,2,3]\n",
        "b=[4,5,6]\n",
        "c=a+b\n",
        "print(c)"
      ]
    },
    {
      "cell_type": "code",
      "execution_count": null,
      "id": "56fbaf9d",
      "metadata": {
        "id": "56fbaf9d",
        "outputId": "1784cd90-fd5d-4027-d6fe-01e3aea08a6e"
      },
      "outputs": [
        {
          "name": "stdout",
          "output_type": "stream",
          "text": [
            "[10, 20, 10, 20, 10, 20]\n"
          ]
        }
      ],
      "source": [
        "a=[10,20]\n",
        "b=3*a\n",
        "print(b)\n"
      ]
    },
    {
      "cell_type": "code",
      "execution_count": null,
      "id": "e92509c4",
      "metadata": {
        "id": "e92509c4",
        "outputId": "57527510-883b-4f68-83ee-5b6c862ad8a4"
      },
      "outputs": [
        {
          "data": {
            "text/plain": [
              "True"
            ]
          },
          "execution_count": 64,
          "metadata": {},
          "output_type": "execute_result"
        }
      ],
      "source": [
        "days=['monday','tuesday','wednesday','thursday','friday','saturday','sunday']\n",
        "'wednesday' in days"
      ]
    },
    {
      "cell_type": "code",
      "execution_count": null,
      "id": "89f75e1d",
      "metadata": {
        "id": "89f75e1d",
        "outputId": "9e36cb74-8df2-4115-f07e-cf1e906b3364"
      },
      "outputs": [
        {
          "data": {
            "text/plain": [
              "False"
            ]
          },
          "execution_count": 65,
          "metadata": {},
          "output_type": "execute_result"
        }
      ],
      "source": [
        "days=['monday','tuesday','wednesday','thursday','friday','saturday','sunday']\n",
        "'wednesday' not in days"
      ]
    },
    {
      "cell_type": "code",
      "execution_count": null,
      "id": "0c45dd0c",
      "metadata": {
        "id": "0c45dd0c",
        "outputId": "eaa1a666-1cea-4085-bd96-cda9db21f711"
      },
      "outputs": [
        {
          "data": {
            "text/plain": [
              "True"
            ]
          },
          "execution_count": 66,
          "metadata": {},
          "output_type": "execute_result"
        }
      ],
      "source": [
        "a='Arshiya'\n",
        "b='Arshiya'\n",
        "a is b"
      ]
    },
    {
      "cell_type": "code",
      "execution_count": null,
      "id": "41582f69",
      "metadata": {
        "id": "41582f69",
        "outputId": "d8bb02c8-bab3-4708-81eb-210f8bd42791"
      },
      "outputs": [
        {
          "data": {
            "text/plain": [
              "False"
            ]
          },
          "execution_count": 67,
          "metadata": {},
          "output_type": "execute_result"
        }
      ],
      "source": [
        "a='Arshiya'\n",
        "b='Lubna'\n",
        "a is b"
      ]
    },
    {
      "cell_type": "code",
      "execution_count": null,
      "id": "143160ce",
      "metadata": {
        "id": "143160ce",
        "outputId": "115c5792-0bb6-4b7d-8568-aefb19f9c460"
      },
      "outputs": [
        {
          "data": {
            "text/plain": [
              "['monday', 'wednesday', 'thursday', 'friday', 'saturday', 'sunday']"
            ]
          },
          "execution_count": 69,
          "metadata": {},
          "output_type": "execute_result"
        }
      ],
      "source": [
        "days=['monday','tuesday','wednesday','thursday','friday','saturday','sunday']\n",
        "del[days[1]]\n",
        "days"
      ]
    },
    {
      "cell_type": "markdown",
      "id": "1abb504f",
      "metadata": {
        "id": "1abb504f"
      },
      "source": [
        "# List Methods:"
      ]
    },
    {
      "cell_type": "markdown",
      "id": "4585fef4",
      "metadata": {
        "id": "4585fef4"
      },
      "source": [
        "![methods.png](attachment:methods.png)"
      ]
    },
    {
      "cell_type": "code",
      "execution_count": null,
      "id": "338a7b6d",
      "metadata": {
        "id": "338a7b6d",
        "outputId": "6a79f3e5-2f2b-4255-8338-7051be2c878c"
      },
      "outputs": [
        {
          "name": "stdout",
          "output_type": "stream",
          "text": [
            "['a', 'b', 'c', 'd']\n",
            "['a', 'b', 'c', 'd', 'e']\n"
          ]
        }
      ],
      "source": [
        "a=['a','b','c','d']\n",
        "print(a)\n",
        "a.append('e')\n",
        "print(a)"
      ]
    },
    {
      "cell_type": "code",
      "execution_count": null,
      "id": "d859fe50",
      "metadata": {
        "id": "d859fe50",
        "outputId": "7da2a268-6d80-41d4-c552-5fa0f50e707a"
      },
      "outputs": [
        {
          "name": "stdout",
          "output_type": "stream",
          "text": [
            "['red', 'orange', 'pink', 'black']\n",
            "[]\n"
          ]
        }
      ],
      "source": [
        "list=['red','orange','pink','black']\n",
        "print(list)\n",
        "list.clear()\n",
        "print(list)"
      ]
    },
    {
      "cell_type": "code",
      "execution_count": null,
      "id": "95747e65",
      "metadata": {
        "id": "95747e65",
        "outputId": "3185e84b-b4c2-4e8d-b890-f592f86245d6"
      },
      "outputs": [
        {
          "name": "stdout",
          "output_type": "stream",
          "text": [
            "[1, 2, 3, 4, 1, 4, 1, 7, 8, 1]\n"
          ]
        },
        {
          "data": {
            "text/plain": [
              "4"
            ]
          },
          "execution_count": 72,
          "metadata": {},
          "output_type": "execute_result"
        }
      ],
      "source": [
        "nums=[1,2,3,4,1,4,1,7,8,1]\n",
        "print(nums)\n",
        "nums.count(1)"
      ]
    },
    {
      "cell_type": "code",
      "execution_count": null,
      "id": "3182717f",
      "metadata": {
        "id": "3182717f",
        "outputId": "9af45da1-20ed-439c-f22e-486b66de63ff"
      },
      "outputs": [
        {
          "name": "stdout",
          "output_type": "stream",
          "text": [
            "[1, 2, 3, 4]\n",
            "[1, 2, 3, 4]\n"
          ]
        }
      ],
      "source": [
        "list_1=[1,2,3,4]\n",
        "print(list_1)\n",
        "list_2=list_1.copy()\n",
        "print(list_2)"
      ]
    },
    {
      "cell_type": "code",
      "execution_count": null,
      "id": "bdf62d18",
      "metadata": {
        "id": "bdf62d18",
        "outputId": "7d3c5a65-5232-41d9-da3b-903a93ab856e"
      },
      "outputs": [
        {
          "name": "stdout",
          "output_type": "stream",
          "text": [
            "[1, 3, 2, 4, 5]\n",
            "[5, 6, 7, 3, 6]\n",
            "[1, 3, 2, 4, 5, 5, 6, 7, 3, 6]\n"
          ]
        }
      ],
      "source": [
        "A=[1,3,2,4,5]\n",
        "B=[5,6,7,3,6]\n",
        "print(A)\n",
        "print(B)\n",
        "A.extend(B)\n",
        "print(A)"
      ]
    },
    {
      "cell_type": "markdown",
      "id": "b7a157f7",
      "metadata": {
        "id": "b7a157f7"
      },
      "source": [
        "NOTE:we have many other methods such as index(),insert(),pop(),remove(),reverse(),sort() and so on."
      ]
    },
    {
      "cell_type": "markdown",
      "id": "f0c450b1",
      "metadata": {
        "id": "f0c450b1"
      },
      "source": [
        "# 2.PYTHON TUPLES"
      ]
    },
    {
      "cell_type": "markdown",
      "id": "01621c8e",
      "metadata": {
        "id": "01621c8e"
      },
      "source": [
        "1.Tuple is another important data structures present in python.\n",
        "\n",
        "2.Allow multiple data types.\n",
        "\n",
        "3.Enclosed () and separated by commas(,).\n",
        "\n",
        "4.Tuples are not mutable\n",
        "\n",
        "5.Tuples are indexible\n",
        "\n",
        "6.Tuples are ordered\n"
      ]
    },
    {
      "cell_type": "code",
      "execution_count": 1,
      "id": "cdbc0bfe",
      "metadata": {
        "colab": {
          "base_uri": "https://localhost:8080/"
        },
        "id": "cdbc0bfe",
        "outputId": "2ac7529a-255e-47cd-8b1a-9c1ce2cedd99"
      },
      "outputs": [
        {
          "output_type": "stream",
          "name": "stdout",
          "text": [
            "(5,)\n",
            "<class 'tuple'>\n"
          ]
        }
      ],
      "source": [
        "#creating tuple with single element:\n",
        "\n",
        "a=(5,)\n",
        "print(a)\n",
        "print(type(a))\n",
        "\n"
      ]
    },
    {
      "cell_type": "code",
      "execution_count": 2,
      "id": "e51ea769",
      "metadata": {
        "colab": {
          "base_uri": "https://localhost:8080/"
        },
        "id": "e51ea769",
        "outputId": "e20507e7-c634-4362-9945-c31e9db9779f"
      },
      "outputs": [
        {
          "output_type": "stream",
          "name": "stdout",
          "text": [
            "(1, 2, 3, 4, 5)\n"
          ]
        }
      ],
      "source": [
        "#creating tuple with integers\n",
        "a=(1,2,3,4,5)\n",
        "print(a)"
      ]
    },
    {
      "cell_type": "code",
      "execution_count": 3,
      "id": "ca2b0c32",
      "metadata": {
        "colab": {
          "base_uri": "https://localhost:8080/"
        },
        "id": "ca2b0c32",
        "outputId": "a6406843-1792-4f82-b635-accd2db0942a"
      },
      "outputs": [
        {
          "output_type": "stream",
          "name": "stdout",
          "text": [
            "(6.5, 5.9, 2.0)\n"
          ]
        }
      ],
      "source": [
        "#creating tuple with float numbers\n",
        "b=(6.5,5.9,2.0)\n",
        "print(b)"
      ]
    },
    {
      "cell_type": "code",
      "execution_count": 4,
      "id": "01ae3cb2",
      "metadata": {
        "colab": {
          "base_uri": "https://localhost:8080/"
        },
        "id": "01ae3cb2",
        "outputId": "f8b9e033-c346-43c1-df36-720b57b51497"
      },
      "outputs": [
        {
          "output_type": "execute_result",
          "data": {
            "text/plain": [
              "('one', 'two', 'three')"
            ]
          },
          "metadata": {},
          "execution_count": 4
        }
      ],
      "source": [
        "#creating tuple with strings\n",
        "c=('one','two','three')\n",
        "c"
      ]
    },
    {
      "cell_type": "code",
      "execution_count": 5,
      "id": "af0eb30d",
      "metadata": {
        "colab": {
          "base_uri": "https://localhost:8080/"
        },
        "id": "af0eb30d",
        "outputId": "5e23c848-67e6-4449-ba5f-a540b69a08c5"
      },
      "outputs": [
        {
          "output_type": "execute_result",
          "data": {
            "text/plain": [
              "('hello', 708, 66.8, 1, 2)"
            ]
          },
          "metadata": {},
          "execution_count": 5
        }
      ],
      "source": [
        "#creating tuple multiple data types\n",
        "mix=('hello',708,66.8,1,2)\n",
        "mix"
      ]
    },
    {
      "cell_type": "code",
      "execution_count": 6,
      "id": "21e543d0",
      "metadata": {
        "colab": {
          "base_uri": "https://localhost:8080/"
        },
        "id": "21e543d0",
        "outputId": "69cc0e3a-04a8-4c95-af54-c60d6f78fa02"
      },
      "outputs": [
        {
          "output_type": "stream",
          "name": "stdout",
          "text": [
            "hello\n"
          ]
        }
      ],
      "source": [
        "#accessing items of tuple\n",
        "\n",
        "a=(1,2,3,4,'hello')\n",
        "print(a[4])\n"
      ]
    },
    {
      "cell_type": "markdown",
      "id": "7bbec7ee",
      "metadata": {
        "id": "7bbec7ee"
      },
      "source": [
        "# Tuple Methods"
      ]
    },
    {
      "cell_type": "markdown",
      "id": "0d44e5bc",
      "metadata": {
        "id": "0d44e5bc"
      },
      "source": [
        "![tuple%20methods.png](attachment:tuple%20methods.png)"
      ]
    },
    {
      "cell_type": "markdown",
      "id": "09abefaa",
      "metadata": {
        "id": "09abefaa"
      },
      "source": [
        "# 3.Python Dictionary"
      ]
    },
    {
      "cell_type": "markdown",
      "id": "ee7e617c",
      "metadata": {
        "id": "ee7e617c"
      },
      "source": [
        "1.Dictionaries are used to store the values in key-value pair.\n",
        "\n",
        "2.It's a combination of keys and values\n",
        "\n",
        "3.Elements are accessed based on the keys \n",
        "\n",
        "4.It is ordered,mutable,and dont allow duplicate elements.\n",
        "\n",
        "5.Enclosed within {} with key value pair"
      ]
    },
    {
      "cell_type": "code",
      "execution_count": null,
      "id": "a76b6005",
      "metadata": {
        "id": "a76b6005",
        "outputId": "dd634587-b7d7-44c7-ebed-c3d1a344470f"
      },
      "outputs": [
        {
          "name": "stdout",
          "output_type": "stream",
          "text": [
            "{'name': 'joy', 'age': 23, 'education': 'Engineer'}\n"
          ]
        }
      ],
      "source": [
        "#create a dictionary\n",
        "a={\n",
        "    'name':'joy',\n",
        "    'age':23,\n",
        "    'education':'Engineer'\n",
        "}\n",
        "print(a)"
      ]
    },
    {
      "cell_type": "code",
      "execution_count": null,
      "id": "2fc9ea3f",
      "metadata": {
        "id": "2fc9ea3f",
        "outputId": "71182b0e-bb9b-4d3e-ae54-0782435cf1ad"
      },
      "outputs": [
        {
          "data": {
            "text/plain": [
              "3"
            ]
          },
          "execution_count": 88,
          "metadata": {},
          "output_type": "execute_result"
        }
      ],
      "source": [
        "len(a)"
      ]
    },
    {
      "cell_type": "code",
      "execution_count": null,
      "id": "237b0f27",
      "metadata": {
        "id": "237b0f27",
        "outputId": "ba3487c6-b7ec-4e99-9e68-24f401ccc6f2"
      },
      "outputs": [
        {
          "data": {
            "text/plain": [
              "dict"
            ]
          },
          "execution_count": 89,
          "metadata": {},
          "output_type": "execute_result"
        }
      ],
      "source": [
        "type(a)"
      ]
    },
    {
      "cell_type": "code",
      "execution_count": null,
      "id": "61d33149",
      "metadata": {
        "id": "61d33149",
        "outputId": "4533639b-e242-4c88-8a9a-c84c76ee856b"
      },
      "outputs": [
        {
          "data": {
            "text/plain": [
              "dict_keys(['name', 'age', 'education'])"
            ]
          },
          "execution_count": 91,
          "metadata": {},
          "output_type": "execute_result"
        }
      ],
      "source": [
        "x=a.keys()\n",
        "x"
      ]
    },
    {
      "cell_type": "code",
      "execution_count": null,
      "id": "fe7de5ef",
      "metadata": {
        "id": "fe7de5ef",
        "outputId": "343dd121-8e9a-44e8-b56b-20595b1acf18"
      },
      "outputs": [
        {
          "data": {
            "text/plain": [
              "dict_values(['joy', 23, 'Engineer'])"
            ]
          },
          "execution_count": 92,
          "metadata": {},
          "output_type": "execute_result"
        }
      ],
      "source": [
        "y=a.values()\n",
        "y"
      ]
    },
    {
      "cell_type": "code",
      "execution_count": null,
      "id": "886a044a",
      "metadata": {
        "id": "886a044a",
        "outputId": "4ca8474b-5597-4a6d-dd47-b78f31d8f6d3"
      },
      "outputs": [
        {
          "data": {
            "text/plain": [
              "dict_items([('name', 'joy'), ('age', 23), ('education', 'Engineer')])"
            ]
          },
          "execution_count": 93,
          "metadata": {},
          "output_type": "execute_result"
        }
      ],
      "source": [
        "z=a.items()\n",
        "z"
      ]
    },
    {
      "cell_type": "markdown",
      "id": "644ddc36",
      "metadata": {
        "id": "644ddc36"
      },
      "source": [
        "# Dictionary methods:"
      ]
    },
    {
      "cell_type": "markdown",
      "id": "1d6bdb74",
      "metadata": {
        "id": "1d6bdb74"
      },
      "source": [
        "![dict%20methods.png](attachment:dict%20methods.png)"
      ]
    },
    {
      "cell_type": "markdown",
      "id": "ee2e77ae",
      "metadata": {
        "id": "ee2e77ae"
      },
      "source": [
        "# 4.Python Sets:"
      ]
    },
    {
      "cell_type": "markdown",
      "id": "09afd770",
      "metadata": {
        "id": "09afd770"
      },
      "source": [
        "1.Sets are used to store multiple items in a single variable.\n",
        "\n",
        "2.Sets are enclosed withing {}.\n",
        "\n",
        "3.Sets are unordered,not mutable and unidexible.\n",
        "\n",
        "4.Sets items are unchangable but we can remove and add new items.\n"
      ]
    },
    {
      "cell_type": "code",
      "execution_count": null,
      "id": "ecea1a9c",
      "metadata": {
        "id": "ecea1a9c",
        "outputId": "cc885834-c4d7-468d-922b-86d15c171718"
      },
      "outputs": [
        {
          "name": "stdout",
          "output_type": "stream",
          "text": [
            "{1, 2, 3, 4}\n"
          ]
        }
      ],
      "source": [
        "#Example:\n",
        "set1={1,2,3,4}\n",
        "print(set1)"
      ]
    },
    {
      "cell_type": "code",
      "execution_count": null,
      "id": "171a2d0d",
      "metadata": {
        "id": "171a2d0d",
        "outputId": "5ad24afe-6383-4f98-8b01-1e93b8b138a2"
      },
      "outputs": [
        {
          "data": {
            "text/plain": [
              "{1, 2, 3, 4, 5, 6, 7}"
            ]
          },
          "execution_count": 95,
          "metadata": {},
          "output_type": "execute_result"
        }
      ],
      "source": [
        "3duplicates not allowed\n",
        "set={1,2,3,4,5,6,7,1,1}\n",
        "set"
      ]
    },
    {
      "cell_type": "code",
      "execution_count": null,
      "id": "8f8ef621",
      "metadata": {
        "id": "8f8ef621",
        "outputId": "d735cdc0-9711-40c3-d12c-d2cb1fb0c2e5"
      },
      "outputs": [
        {
          "data": {
            "text/plain": [
              "7"
            ]
          },
          "execution_count": 96,
          "metadata": {},
          "output_type": "execute_result"
        }
      ],
      "source": [
        "len(set)"
      ]
    },
    {
      "cell_type": "code",
      "execution_count": null,
      "id": "55fca203",
      "metadata": {
        "id": "55fca203",
        "outputId": "00bba02e-8b6c-4bb3-b469-a484565ba0f4"
      },
      "outputs": [
        {
          "data": {
            "text/plain": [
              "set"
            ]
          },
          "execution_count": 97,
          "metadata": {},
          "output_type": "execute_result"
        }
      ],
      "source": [
        "type(set)"
      ]
    },
    {
      "cell_type": "markdown",
      "id": "74651c42",
      "metadata": {
        "id": "74651c42"
      },
      "source": [
        "# Set Methods:"
      ]
    },
    {
      "cell_type": "markdown",
      "id": "d3c00065",
      "metadata": {
        "id": "d3c00065"
      },
      "source": [
        "![set%20methods.png](attachment:set%20methods.png)"
      ]
    },
    {
      "cell_type": "markdown",
      "id": "2c4a4f39",
      "metadata": {
        "id": "2c4a4f39"
      },
      "source": [
        "Note:We have still more methods in sets in the above table few are discussed.Please for more info refer this link(https://www.w3schools.com/python/python_sets.asp)"
      ]
    },
    {
      "cell_type": "markdown",
      "id": "ec84271d",
      "metadata": {
        "id": "ec84271d"
      },
      "source": [
        "# Python Operators"
      ]
    },
    {
      "cell_type": "code",
      "execution_count": null,
      "id": "6ddc7883",
      "metadata": {
        "id": "6ddc7883"
      },
      "outputs": [],
      "source": [
        "We have various python operators whcih are useful in performing various operations.\n",
        "\n",
        "Operators:\n",
        "1.Arthematic operators\n",
        "2.Comparison operators\n",
        "3.Logical operators\n",
        "4.Assignment operators\n",
        "5.Special operators\n",
        "a.Identity operators\n",
        "b.Membership operators"
      ]
    },
    {
      "cell_type": "markdown",
      "id": "3e932d92",
      "metadata": {
        "id": "3e932d92"
      },
      "source": [
        "1.Arthematic operators"
      ]
    },
    {
      "cell_type": "markdown",
      "id": "46624113",
      "metadata": {
        "id": "46624113"
      },
      "source": [
        "![AO.png](attachment:AO.png)"
      ]
    },
    {
      "cell_type": "markdown",
      "id": "b1d105ff",
      "metadata": {
        "id": "b1d105ff"
      },
      "source": [
        "2.Comparison operators\n",
        "\n",
        "a -first operand\n",
        "\n",
        "b-second operand"
      ]
    },
    {
      "cell_type": "markdown",
      "id": "914bece7",
      "metadata": {
        "id": "914bece7"
      },
      "source": [
        "![CO.png](attachment:CO.png)"
      ]
    },
    {
      "cell_type": "markdown",
      "id": "ba028577",
      "metadata": {
        "id": "ba028577"
      },
      "source": [
        "3.Logical operators"
      ]
    },
    {
      "cell_type": "markdown",
      "id": "2809ccb8",
      "metadata": {
        "id": "2809ccb8"
      },
      "source": [
        "![LO.png](attachment:LO.png)"
      ]
    },
    {
      "cell_type": "markdown",
      "id": "c82b9083",
      "metadata": {
        "id": "c82b9083"
      },
      "source": [
        "4.Assignemnt operators"
      ]
    },
    {
      "cell_type": "markdown",
      "id": "43feab2e",
      "metadata": {
        "id": "43feab2e"
      },
      "source": [
        "![ASSIGN%20o.png](attachment:ASSIGN%20o.png)"
      ]
    },
    {
      "cell_type": "markdown",
      "id": "92f1558e",
      "metadata": {
        "id": "92f1558e"
      },
      "source": [
        "5.SPECIAL OPERATORS\n",
        "\n",
        "1.Identity operators:\n",
        "    \n",
        "    *Used to check if the two values are located on the same part of the memory.\n",
        "    \n",
        "    *Returns true or false depending on conditions.\n",
        "    \n",
        "    *two identity operators are 'is' and 'is not'.\n",
        "    \n",
        " 2.Membership operators:\n",
        " \n",
        " *used to check whether a value is found in a sequence.\n",
        " \n",
        " *two membership operators are 'in' and 'not in'.\n",
        " "
      ]
    },
    {
      "cell_type": "markdown",
      "id": "7cea7338",
      "metadata": {
        "id": "7cea7338"
      },
      "source": [
        "CONTROL FLOW IN PYTHON:"
      ]
    },
    {
      "cell_type": "markdown",
      "id": "6261cc91",
      "metadata": {
        "id": "6261cc91"
      },
      "source": [
        "   1.if statement\n",
        "\n",
        "   2.if-else statement\n",
        "\n",
        "   3.nested if statement\n",
        "\n",
        "   4.if-elif statement"
      ]
    },
    {
      "cell_type": "markdown",
      "id": "8206fc3e",
      "metadata": {
        "id": "8206fc3e"
      },
      "source": [
        "LOOPS:\n",
        "\n",
        " 1.for loop\n",
        " \n",
        " 2.while loop"
      ]
    },
    {
      "cell_type": "markdown",
      "id": "a0deb136",
      "metadata": {
        "id": "a0deb136"
      },
      "source": [
        "# Python functions"
      ]
    },
    {
      "cell_type": "markdown",
      "id": "8a9060d0",
      "metadata": {
        "id": "8a9060d0"
      },
      "source": [
        "1.Python functions is a block of statements that peforms a specific task.\n",
        "\n",
        "2.Get executed when the function is called.\n",
        "\n",
        "3.goal is to put dome repeatedly done task together and make aa function ,so instead of writing the same code againa nd again for different inputs ,we can perform the function calls to reuse the code contained in the function.\n",
        "\n",
        "4.functions are defined by using \"def\" keyword.\n",
        "\n",
        "5.We have 2 types of functions:\n",
        "\n",
        "a.User-defined function\n",
        "\n",
        "b.Built-in function\n"
      ]
    },
    {
      "cell_type": "markdown",
      "id": "0e509eb4",
      "metadata": {
        "id": "0e509eb4"
      },
      "source": [
        "Syntax:\n",
        "\n",
        "    def function_name(parameters):\n",
        "        ####statements\n",
        "    function_name(arguments)\n",
        "    "
      ]
    },
    {
      "cell_type": "code",
      "execution_count": null,
      "id": "c3e58a81",
      "metadata": {
        "id": "c3e58a81"
      },
      "outputs": [],
      "source": [
        "def add():\n",
        "    a=2\n",
        "    b=3\n",
        "    sum=a+b\n",
        "    return sum\n",
        "add()\n",
        "print(add())"
      ]
    },
    {
      "cell_type": "markdown",
      "id": "7e1f1838",
      "metadata": {
        "id": "7e1f1838"
      },
      "source": [
        "1.Built-in function:\n",
        "    \n",
        "*python predefined functions that are readily available.\n",
        "\n",
        "*such as min(),max(),print(),sum() etc\n"
      ]
    },
    {
      "cell_type": "markdown",
      "id": "ce230a72",
      "metadata": {
        "id": "ce230a72"
      },
      "source": [
        "2.User-defined functions:\n",
        "\n",
        "*functions that are defined by user to perform a specific task\n"
      ]
    },
    {
      "cell_type": "markdown",
      "id": "f8bfa9aa",
      "metadata": {
        "id": "f8bfa9aa"
      },
      "source": [
        "3.Anonymous function:\n",
        "\n",
        "*function that we define without a name.\n",
        "\n",
        "*anonymous functions are also called as lambda function.\n",
        "\n",
        "*they are not declared without def keyword.\n"
      ]
    },
    {
      "cell_type": "code",
      "execution_count": null,
      "id": "17f92b33",
      "metadata": {
        "id": "17f92b33"
      },
      "outputs": [],
      "source": [
        "function modularity:\n",
        "    \n",
        "def collectdata():\n",
        "    'function to collect data'\n",
        "    statement(s)\n",
        "    \n",
        "def cleandata():\n",
        "    'function to clean data'\n",
        "    statement(s)\n",
        "def processdata():\n",
        "    'function to pre-process the data'\n",
        "    statement(s)\n",
        "def exploredate():\n",
        "    'function to explore data'\n",
        "    statement(s)\n",
        "def visualization():\n",
        "    'function to viasualize data'\n",
        "    statement(s)\n",
        "    \n",
        "#main program:\n",
        "collectdata()\n",
        "cleandata()\n",
        "processdata()\n",
        "exploredata()\n",
        "visualization()\n",
        "\n",
        "    "
      ]
    },
    {
      "cell_type": "markdown",
      "source": [
        "*Question1 : Read the ages of people in a village. For ages between 1 to 5 store the string \"infant\", between 6 to 13 store the string \"child\", between 14 to 18 store the string \"teen\", between 19 to 35 store the string \"young\", between 36 to 60 store the string \"adult\" and above 60, store the string \"senior citizen\". Print the resultant list. *"
      ],
      "metadata": {
        "id": "Rc9dug9flY5I"
      },
      "id": "Rc9dug9flY5I"
    },
    {
      "cell_type": "code",
      "source": [
        "ages = []\n",
        "nop = int(input(\"Enter the total number of people in the village\"))\n",
        "for i in range(nop):\n",
        "  a = int(input(\"Enter an age\"))\n",
        "  ages.append(a)\n",
        "for i in range(nop):\n",
        "  if ages[i] >=1 and ages[i] <=5:\n",
        "    ages[i]= \"infant\"\n",
        "  elif ages[i] >=6 and ages[i] <=13:\n",
        "    ages[i] = \"child\"\n",
        "  elif ages[i] >=14 and ages[i] <=18:\n",
        "    ages[i] = \"teen\"\n",
        "  elif ages[i] >=19 and ages[i] <=35:\n",
        "    ages[i] = \"young\"\n",
        "  elif ages[i] >=36 and ages[i] <=60:\n",
        "    ages[i] = \"adult\"\n",
        "  else:\n",
        "    ages[i] = \"senior citizen\"\n",
        "print(\"The Output List is \\n\")\n",
        "for i in ages:\n",
        "  print(i,\"\\n\")"
      ],
      "metadata": {
        "colab": {
          "base_uri": "https://localhost:8080/"
        },
        "id": "dAulmVUIldRx",
        "outputId": "c82e5bc1-1976-46fa-9209-e142e856d474"
      },
      "id": "dAulmVUIldRx",
      "execution_count": 7,
      "outputs": [
        {
          "output_type": "stream",
          "name": "stdout",
          "text": [
            "Enter the total number of people in the village3\n",
            "Enter an age32\n",
            "Enter an age34\n",
            "Enter an age10\n",
            "The Output List is \n",
            "\n",
            "young \n",
            "\n",
            "young \n",
            "\n",
            "child \n",
            "\n"
          ]
        }
      ]
    },
    {
      "cell_type": "markdown",
      "source": [
        "Question 2 : Using List Comprehension, print the squares of the numbers from 1 to 10"
      ],
      "metadata": {
        "id": "OQlnlfJNlnKE"
      },
      "id": "OQlnlfJNlnKE"
    },
    {
      "cell_type": "code",
      "source": [
        "[x ** 2  for x in range(1,11)]"
      ],
      "metadata": {
        "colab": {
          "base_uri": "https://localhost:8080/"
        },
        "id": "oWRluqLPlqHX",
        "outputId": "eca5684c-abc2-4428-a9d4-4ba77e0cbac9"
      },
      "id": "oWRluqLPlqHX",
      "execution_count": 8,
      "outputs": [
        {
          "output_type": "execute_result",
          "data": {
            "text/plain": [
              "[1, 4, 9, 16, 25, 36, 49, 64, 81, 100]"
            ]
          },
          "metadata": {},
          "execution_count": 8
        }
      ]
    },
    {
      "cell_type": "markdown",
      "source": [
        "Question 3: USing list Comprehension print the squares of only the positive numbers in a given list [-1, 1,2,-2, -3, 3, -4, 4]"
      ],
      "metadata": {
        "id": "Q_s59iDWlvZz"
      },
      "id": "Q_s59iDWlvZz"
    },
    {
      "cell_type": "code",
      "source": [
        "nums = [-1,1,2,-2,-3,3,-4,4]\n",
        "[ x ** 2  for x in nums  if x >=0]"
      ],
      "metadata": {
        "colab": {
          "base_uri": "https://localhost:8080/"
        },
        "id": "i1ebEc2dlwpX",
        "outputId": "0323b837-e4c8-48a9-e9e1-e866deda0c99"
      },
      "id": "i1ebEc2dlwpX",
      "execution_count": 14,
      "outputs": [
        {
          "output_type": "execute_result",
          "data": {
            "text/plain": [
              "[1, 4, 9, 16]"
            ]
          },
          "metadata": {},
          "execution_count": 14
        }
      ]
    },
    {
      "cell_type": "markdown",
      "source": [
        "Question 4: Read the marks of 5 students in a course as a tuple. Print the highest, lowest and average of the input."
      ],
      "metadata": {
        "id": "NnbX7RU-muHr"
      },
      "id": "NnbX7RU-muHr"
    },
    {
      "cell_type": "code",
      "source": [
        "# Method 1 to read a tuple using eval()\n",
        "#marks = eval(input(\"Enter the 5 marks as a ()\"))\n",
        "#Method 2 to read a tuple using for and merge operator\n",
        "marks = ()\n",
        "for i in range(5):\n",
        "  m = int(input(\"Enter a mark\"))\n",
        "  marks = marks + (m,)\n",
        "sum = 0\n",
        "for i in marks:\n",
        "  sum = sum + i\n",
        "print(\"Highest is : \\n\", max(marks))\n",
        "print(\"Lowest is : \\n\", min(marks))\n",
        "print(\"Average is : \\n\", sum/5)"
      ],
      "metadata": {
        "colab": {
          "base_uri": "https://localhost:8080/"
        },
        "id": "CD_IhI0Hmyzi",
        "outputId": "14546907-91fe-460c-a4fd-0c975e25fd48"
      },
      "id": "CD_IhI0Hmyzi",
      "execution_count": 15,
      "outputs": [
        {
          "output_type": "stream",
          "name": "stdout",
          "text": [
            "Enter a mark10\n",
            "Enter a mark20\n",
            "Enter a mark30\n",
            "Enter a mark40\n",
            "Enter a mark50\n",
            "Highest is : \n",
            " 50\n",
            "Lowest is : \n",
            " 10\n",
            "Average is : \n",
            " 30.0\n"
          ]
        }
      ]
    },
    {
      "cell_type": "markdown",
      "source": [
        "Question 5: Excersises using Nested Data Structures. Read n integers from the user as a tuple. Create a tuple of tuples with each input item and its count. Sample Input : (1,2,1,3,4,2,4) Output : ((1,2), (2,2), (3,1), (4,2))"
      ],
      "metadata": {
        "id": "tUFnxYo6m9Vq"
      },
      "id": "tUFnxYo6m9Vq"
    },
    {
      "cell_type": "code",
      "source": [
        "n = int(input(\"Enter the number of numbers\"))\n",
        "nums = ()\n",
        "for i in range(n):\n",
        "  n1 = int(input(\"Enter a number\"))\n",
        "  nums = nums + (n1,)\n",
        "print(\"The input numbers are: \\n\", nums)\n",
        "out = ()\n",
        "unique = []\n",
        "for i in nums:\n",
        "  if i not in unique:\n",
        "    unique.append(i)\n",
        "for i in unique:\n",
        "  out = out + ((i, nums.count(i)), )\n",
        "print(\"Output is:\\n\", out)"
      ],
      "metadata": {
        "colab": {
          "base_uri": "https://localhost:8080/"
        },
        "id": "ahgPDCKtnBWH",
        "outputId": "d54d76d8-f932-43bd-e51f-94fed7ce677c"
      },
      "id": "ahgPDCKtnBWH",
      "execution_count": 18,
      "outputs": [
        {
          "output_type": "stream",
          "name": "stdout",
          "text": [
            "Enter the number of numbers3\n",
            "Enter a number1\n",
            "Enter a number3\n",
            "Enter a number5\n",
            "The input numbers are: \n",
            " (1, 3, 5)\n",
            "Output is:\n",
            " ((1, 1), (3, 1), (5, 1))\n"
          ]
        }
      ]
    },
    {
      "cell_type": "markdown",
      "source": [
        "*Question 6: Read student names of two classes using a list of tuples, one tuple for each class. Within each class, assume there are multiple students with the same name. Program should then remove such duplicates in each class. * Sample Input : [('John', 'Jashwant', 'John'), ('Joel', 'Rahul', 'Joel', 'Boomika')] Output : [('John','Jashwant'), ('Joel', 'Rahul', 'Boomika')]"
      ],
      "metadata": {
        "id": "War9b753niaW"
      },
      "id": "War9b753niaW"
    },
    {
      "cell_type": "code",
      "source": [
        "names = eval(input(\"Enter the student names of two classes as [()]\"))\n",
        "out_list = []\n",
        "for tuple_names in names:\n",
        "  #create a tuple of unique names\n",
        "  unique_names = ()\n",
        "  for j in tuple_names:\n",
        "    if j not in unique_names:\n",
        "      unique_names = unique_names + (j,)\n",
        "  #append this tuple with unique names to the output list\n",
        "  out_list.append(unique_names)\n",
        "print(\"The list with duplicates removed is : \\n\", out_list)"
      ],
      "metadata": {
        "colab": {
          "base_uri": "https://localhost:8080/"
        },
        "id": "fMsdjJNXnl-c",
        "outputId": "6f4ae5b0-53e3-4c20-fd14-a9d799465d50"
      },
      "id": "fMsdjJNXnl-c",
      "execution_count": 19,
      "outputs": [
        {
          "output_type": "stream",
          "name": "stdout",
          "text": [
            "Enter the student names of two classes as [()][('John', 'Jashwant', 'John'), ('Joel', 'Rahul', 'Joel', 'Boomika')]\n",
            "The list with duplicates removed is : \n",
            " [('John', 'Jashwant'), ('Joel', 'Rahul', 'Boomika')]\n"
          ]
        }
      ]
    },
    {
      "cell_type": "markdown",
      "source": [
        "Question 7: Create a shopping list with details of fruits purchased as a list of tuples. Each tuple should be(fruit_name, fruit_weight). Print the following outputs : 1. Print the list in alphabetical order of fruit names.\n",
        "\n",
        "Print the list in ascending order of fruit weights.\n",
        "Print the list in descending order of fruit weights. Sample Input : [('Grapes', 5), ('Apple', 3), ('Orange', 4)] Output 1 : [('Apple', 3), ('Grapes', 5), ('Orange', 4)] Output 2 : [('Apple',3), ('Orange', 4), ('Grapes', 5)] Output 3: [('Grapes', 5), ('Orange', 4), ('Apple', 3)] bold text"
      ],
      "metadata": {
        "id": "euRNezpkn15i"
      },
      "id": "euRNezpkn15i"
    },
    {
      "cell_type": "code",
      "source": [
        "import operator\n",
        "shopping_list = []\n",
        "while (1):\n",
        "  #read fruit details as a tuple, terminate when empty tuple is input\n",
        "  item = eval(input(\"Enter the next fruit as a ()\"))\n",
        "  if item == ():\n",
        "    break\n",
        "  else:\n",
        "    shopping_list.append(item)\n",
        "print(\"The shopping list is : \\n\", shopping_list)\n",
        "output1 = sorted(shopping_list)\n",
        "print(\"The list in ascending order of fruit names is : \\n\", output1)\n",
        "output2 = sorted(shopping_list, key = operator.itemgetter(1))\n",
        "print(\"The list in ascending order of fruit weights is : \\n\", output2)\n",
        "output3 = sorted(shopping_list, key = operator.itemgetter(1), reverse = True)\n",
        "print(\"The list in descending order of fruit weights is : \\n\", output3)"
      ],
      "metadata": {
        "id": "wwHAlNeZn66J"
      },
      "id": "wwHAlNeZn66J",
      "execution_count": null,
      "outputs": []
    },
    {
      "cell_type": "markdown",
      "id": "c7982ab9",
      "metadata": {
        "id": "c7982ab9"
      },
      "source": [
        "# NOTE(IMP):\n",
        "1.I request all the students to go through the basics of python.\n",
        "\n",
        "2.This notebook just covers basics for refreshing the topics what you have studied in previous semester.\n",
        "\n",
        "3.Requesting to be very thorough with python concepts\n",
        "\n",
        "4.Python is essential and pre-requisit for machine learning.\n",
        "\n"
      ]
    }
  ],
  "metadata": {
    "kernelspec": {
      "display_name": "Python 3",
      "language": "python",
      "name": "python3"
    },
    "language_info": {
      "codemirror_mode": {
        "name": "ipython",
        "version": 3
      },
      "file_extension": ".py",
      "mimetype": "text/x-python",
      "name": "python",
      "nbconvert_exporter": "python",
      "pygments_lexer": "ipython3",
      "version": "3.8.8"
    },
    "colab": {
      "provenance": []
    }
  },
  "nbformat": 4,
  "nbformat_minor": 5
}